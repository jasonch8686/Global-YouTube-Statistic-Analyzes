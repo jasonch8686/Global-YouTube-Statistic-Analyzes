{
  "nbformat": 4,
  "nbformat_minor": 0,
  "metadata": {
    "colab": {
      "provenance": []
    },
    "kernelspec": {
      "name": "python3",
      "display_name": "Python 3"
    },
    "language_info": {
      "name": "python"
    }
  },
  "cells": [
    {
      "cell_type": "code",
      "execution_count": null,
      "metadata": {
        "colab": {
          "base_uri": "https://localhost:8080/"
        },
        "id": "ueMvXZS6ZVYJ",
        "outputId": "2ee275ec-a2bc-4815-ca01-602df6016a1a"
      },
      "outputs": [
        {
          "output_type": "stream",
          "name": "stdout",
          "text": [
            "Mounted at /content/drive\n"
          ]
        }
      ],
      "source": [
        "from google.colab import drive\n",
        "drive.mount('/content/drive')"
      ]
    },
    {
      "cell_type": "markdown",
      "source": [
        "# 資料讀取與處理"
      ],
      "metadata": {
        "id": "lwaBH7sqZeAV"
      }
    },
    {
      "cell_type": "code",
      "source": [
        "import numpy as np\n",
        "import pandas as pd\n",
        "import matplotlib.pyplot as plt\n",
        "import seaborn as sns\n",
        "from scipy import stats\n",
        "import statsmodels.api as sms"
      ],
      "metadata": {
        "id": "-kONDzDbZkOk"
      },
      "execution_count": null,
      "outputs": []
    },
    {
      "cell_type": "code",
      "source": [
        "df = pd.read_csv(\"/content/drive/MyDrive/碩二上/Python與機器學習/midterm/Global YouTube Statistics.csv\", encoding='windows-1251')"
      ],
      "metadata": {
        "id": "QXqgD9QrZdZM"
      },
      "execution_count": null,
      "outputs": []
    },
    {
      "cell_type": "code",
      "source": [
        "df.head()"
      ],
      "metadata": {
        "colab": {
          "base_uri": "https://localhost:8080/",
          "height": 394
        },
        "id": "M8lRMNMioTYN",
        "outputId": "34d78c63-bfb4-4c97-b9e0-395444f7d0d3"
      },
      "execution_count": null,
      "outputs": [
        {
          "output_type": "execute_result",
          "data": {
            "text/plain": [
              "   rank                    Youtuber  subscribers   video views  \\\n",
              "0     1                    T-Series       2450.0  2.280000e+11   \n",
              "1     2              YouTube Movies       1700.0  0.000000e+00   \n",
              "2     3                     MrBeast       1660.0  2.836884e+10   \n",
              "3     4  Cocomelon - Nursery Rhymes       1620.0  1.640000e+11   \n",
              "4     5                   SET India       1590.0  1.480000e+11   \n",
              "\n",
              "           category                       Title  uploads        Country  \\\n",
              "0             Music                    T-Series    20082          India   \n",
              "1  Film & Animation               youtubemovies        1  United States   \n",
              "2     Entertainment                     MrBeast      741  United States   \n",
              "3         Education  Cocomelon - Nursery Rhymes      966  United States   \n",
              "4             Shows                   SET India   116536          India   \n",
              "\n",
              "  Abbreviation   channel_type  ...  created_year  created_month  created_date  \\\n",
              "0           IN          Music  ...        2006.0            Mar          13.0   \n",
              "1           US          Games  ...        2006.0            Mar           5.0   \n",
              "2           US  Entertainment  ...        2012.0            Feb          20.0   \n",
              "3           US      Education  ...        2006.0            Sep           1.0   \n",
              "4           IN  Entertainment  ...        2006.0            Sep          20.0   \n",
              "\n",
              "   Gross tertiary education enrollment (%)    Population  Unemployment rate  \\\n",
              "0                                     28.1  1.366418e+09               5.36   \n",
              "1                                     88.2  3.282395e+08              14.70   \n",
              "2                                     88.2  3.282395e+08              14.70   \n",
              "3                                     88.2  3.282395e+08              14.70   \n",
              "4                                     28.1  1.366418e+09               5.36   \n",
              "\n",
              "   Urban_population   Latitude  Longitude  mean_monthly_earnings  \n",
              "0       471031528.0  20.593684  78.962880           4.782300e+00  \n",
              "1       270663028.0  37.090240 -95.712891           2.500000e-08  \n",
              "2       270663028.0  37.090240 -95.712891           2.868500e+00  \n",
              "3       270663028.0  37.090240 -95.712891           4.196900e+00  \n",
              "4       471031528.0  20.593684  78.962880           3.877950e+00  \n",
              "\n",
              "[5 rows x 29 columns]"
            ],
            "text/html": [
              "\n",
              "  <div id=\"df-ec8f4b12-e2d2-437c-bd1d-d3ce606e53e6\" class=\"colab-df-container\">\n",
              "    <div>\n",
              "<style scoped>\n",
              "    .dataframe tbody tr th:only-of-type {\n",
              "        vertical-align: middle;\n",
              "    }\n",
              "\n",
              "    .dataframe tbody tr th {\n",
              "        vertical-align: top;\n",
              "    }\n",
              "\n",
              "    .dataframe thead th {\n",
              "        text-align: right;\n",
              "    }\n",
              "</style>\n",
              "<table border=\"1\" class=\"dataframe\">\n",
              "  <thead>\n",
              "    <tr style=\"text-align: right;\">\n",
              "      <th></th>\n",
              "      <th>rank</th>\n",
              "      <th>Youtuber</th>\n",
              "      <th>subscribers</th>\n",
              "      <th>video views</th>\n",
              "      <th>category</th>\n",
              "      <th>Title</th>\n",
              "      <th>uploads</th>\n",
              "      <th>Country</th>\n",
              "      <th>Abbreviation</th>\n",
              "      <th>channel_type</th>\n",
              "      <th>...</th>\n",
              "      <th>created_year</th>\n",
              "      <th>created_month</th>\n",
              "      <th>created_date</th>\n",
              "      <th>Gross tertiary education enrollment (%)</th>\n",
              "      <th>Population</th>\n",
              "      <th>Unemployment rate</th>\n",
              "      <th>Urban_population</th>\n",
              "      <th>Latitude</th>\n",
              "      <th>Longitude</th>\n",
              "      <th>mean_monthly_earnings</th>\n",
              "    </tr>\n",
              "  </thead>\n",
              "  <tbody>\n",
              "    <tr>\n",
              "      <th>0</th>\n",
              "      <td>1</td>\n",
              "      <td>T-Series</td>\n",
              "      <td>2450.0</td>\n",
              "      <td>2.280000e+11</td>\n",
              "      <td>Music</td>\n",
              "      <td>T-Series</td>\n",
              "      <td>20082</td>\n",
              "      <td>India</td>\n",
              "      <td>IN</td>\n",
              "      <td>Music</td>\n",
              "      <td>...</td>\n",
              "      <td>2006.0</td>\n",
              "      <td>Mar</td>\n",
              "      <td>13.0</td>\n",
              "      <td>28.1</td>\n",
              "      <td>1.366418e+09</td>\n",
              "      <td>5.36</td>\n",
              "      <td>471031528.0</td>\n",
              "      <td>20.593684</td>\n",
              "      <td>78.962880</td>\n",
              "      <td>4.782300e+00</td>\n",
              "    </tr>\n",
              "    <tr>\n",
              "      <th>1</th>\n",
              "      <td>2</td>\n",
              "      <td>YouTube Movies</td>\n",
              "      <td>1700.0</td>\n",
              "      <td>0.000000e+00</td>\n",
              "      <td>Film &amp; Animation</td>\n",
              "      <td>youtubemovies</td>\n",
              "      <td>1</td>\n",
              "      <td>United States</td>\n",
              "      <td>US</td>\n",
              "      <td>Games</td>\n",
              "      <td>...</td>\n",
              "      <td>2006.0</td>\n",
              "      <td>Mar</td>\n",
              "      <td>5.0</td>\n",
              "      <td>88.2</td>\n",
              "      <td>3.282395e+08</td>\n",
              "      <td>14.70</td>\n",
              "      <td>270663028.0</td>\n",
              "      <td>37.090240</td>\n",
              "      <td>-95.712891</td>\n",
              "      <td>2.500000e-08</td>\n",
              "    </tr>\n",
              "    <tr>\n",
              "      <th>2</th>\n",
              "      <td>3</td>\n",
              "      <td>MrBeast</td>\n",
              "      <td>1660.0</td>\n",
              "      <td>2.836884e+10</td>\n",
              "      <td>Entertainment</td>\n",
              "      <td>MrBeast</td>\n",
              "      <td>741</td>\n",
              "      <td>United States</td>\n",
              "      <td>US</td>\n",
              "      <td>Entertainment</td>\n",
              "      <td>...</td>\n",
              "      <td>2012.0</td>\n",
              "      <td>Feb</td>\n",
              "      <td>20.0</td>\n",
              "      <td>88.2</td>\n",
              "      <td>3.282395e+08</td>\n",
              "      <td>14.70</td>\n",
              "      <td>270663028.0</td>\n",
              "      <td>37.090240</td>\n",
              "      <td>-95.712891</td>\n",
              "      <td>2.868500e+00</td>\n",
              "    </tr>\n",
              "    <tr>\n",
              "      <th>3</th>\n",
              "      <td>4</td>\n",
              "      <td>Cocomelon - Nursery Rhymes</td>\n",
              "      <td>1620.0</td>\n",
              "      <td>1.640000e+11</td>\n",
              "      <td>Education</td>\n",
              "      <td>Cocomelon - Nursery Rhymes</td>\n",
              "      <td>966</td>\n",
              "      <td>United States</td>\n",
              "      <td>US</td>\n",
              "      <td>Education</td>\n",
              "      <td>...</td>\n",
              "      <td>2006.0</td>\n",
              "      <td>Sep</td>\n",
              "      <td>1.0</td>\n",
              "      <td>88.2</td>\n",
              "      <td>3.282395e+08</td>\n",
              "      <td>14.70</td>\n",
              "      <td>270663028.0</td>\n",
              "      <td>37.090240</td>\n",
              "      <td>-95.712891</td>\n",
              "      <td>4.196900e+00</td>\n",
              "    </tr>\n",
              "    <tr>\n",
              "      <th>4</th>\n",
              "      <td>5</td>\n",
              "      <td>SET India</td>\n",
              "      <td>1590.0</td>\n",
              "      <td>1.480000e+11</td>\n",
              "      <td>Shows</td>\n",
              "      <td>SET India</td>\n",
              "      <td>116536</td>\n",
              "      <td>India</td>\n",
              "      <td>IN</td>\n",
              "      <td>Entertainment</td>\n",
              "      <td>...</td>\n",
              "      <td>2006.0</td>\n",
              "      <td>Sep</td>\n",
              "      <td>20.0</td>\n",
              "      <td>28.1</td>\n",
              "      <td>1.366418e+09</td>\n",
              "      <td>5.36</td>\n",
              "      <td>471031528.0</td>\n",
              "      <td>20.593684</td>\n",
              "      <td>78.962880</td>\n",
              "      <td>3.877950e+00</td>\n",
              "    </tr>\n",
              "  </tbody>\n",
              "</table>\n",
              "<p>5 rows × 29 columns</p>\n",
              "</div>\n",
              "    <div class=\"colab-df-buttons\">\n",
              "\n",
              "  <div class=\"colab-df-container\">\n",
              "    <button class=\"colab-df-convert\" onclick=\"convertToInteractive('df-ec8f4b12-e2d2-437c-bd1d-d3ce606e53e6')\"\n",
              "            title=\"Convert this dataframe to an interactive table.\"\n",
              "            style=\"display:none;\">\n",
              "\n",
              "  <svg xmlns=\"http://www.w3.org/2000/svg\" height=\"24px\" viewBox=\"0 -960 960 960\">\n",
              "    <path d=\"M120-120v-720h720v720H120Zm60-500h600v-160H180v160Zm220 220h160v-160H400v160Zm0 220h160v-160H400v160ZM180-400h160v-160H180v160Zm440 0h160v-160H620v160ZM180-180h160v-160H180v160Zm440 0h160v-160H620v160Z\"/>\n",
              "  </svg>\n",
              "    </button>\n",
              "\n",
              "  <style>\n",
              "    .colab-df-container {\n",
              "      display:flex;\n",
              "      gap: 12px;\n",
              "    }\n",
              "\n",
              "    .colab-df-convert {\n",
              "      background-color: #E8F0FE;\n",
              "      border: none;\n",
              "      border-radius: 50%;\n",
              "      cursor: pointer;\n",
              "      display: none;\n",
              "      fill: #1967D2;\n",
              "      height: 32px;\n",
              "      padding: 0 0 0 0;\n",
              "      width: 32px;\n",
              "    }\n",
              "\n",
              "    .colab-df-convert:hover {\n",
              "      background-color: #E2EBFA;\n",
              "      box-shadow: 0px 1px 2px rgba(60, 64, 67, 0.3), 0px 1px 3px 1px rgba(60, 64, 67, 0.15);\n",
              "      fill: #174EA6;\n",
              "    }\n",
              "\n",
              "    .colab-df-buttons div {\n",
              "      margin-bottom: 4px;\n",
              "    }\n",
              "\n",
              "    [theme=dark] .colab-df-convert {\n",
              "      background-color: #3B4455;\n",
              "      fill: #D2E3FC;\n",
              "    }\n",
              "\n",
              "    [theme=dark] .colab-df-convert:hover {\n",
              "      background-color: #434B5C;\n",
              "      box-shadow: 0px 1px 3px 1px rgba(0, 0, 0, 0.15);\n",
              "      filter: drop-shadow(0px 1px 2px rgba(0, 0, 0, 0.3));\n",
              "      fill: #FFFFFF;\n",
              "    }\n",
              "  </style>\n",
              "\n",
              "    <script>\n",
              "      const buttonEl =\n",
              "        document.querySelector('#df-ec8f4b12-e2d2-437c-bd1d-d3ce606e53e6 button.colab-df-convert');\n",
              "      buttonEl.style.display =\n",
              "        google.colab.kernel.accessAllowed ? 'block' : 'none';\n",
              "\n",
              "      async function convertToInteractive(key) {\n",
              "        const element = document.querySelector('#df-ec8f4b12-e2d2-437c-bd1d-d3ce606e53e6');\n",
              "        const dataTable =\n",
              "          await google.colab.kernel.invokeFunction('convertToInteractive',\n",
              "                                                    [key], {});\n",
              "        if (!dataTable) return;\n",
              "\n",
              "        const docLinkHtml = 'Like what you see? Visit the ' +\n",
              "          '<a target=\"_blank\" href=https://colab.research.google.com/notebooks/data_table.ipynb>data table notebook</a>'\n",
              "          + ' to learn more about interactive tables.';\n",
              "        element.innerHTML = '';\n",
              "        dataTable['output_type'] = 'display_data';\n",
              "        await google.colab.output.renderOutput(dataTable, element);\n",
              "        const docLink = document.createElement('div');\n",
              "        docLink.innerHTML = docLinkHtml;\n",
              "        element.appendChild(docLink);\n",
              "      }\n",
              "    </script>\n",
              "  </div>\n",
              "\n",
              "\n",
              "<div id=\"df-ecda65b8-bfd4-4242-b895-bb8cf0ad8131\">\n",
              "  <button class=\"colab-df-quickchart\" onclick=\"quickchart('df-ecda65b8-bfd4-4242-b895-bb8cf0ad8131')\"\n",
              "            title=\"Suggest charts\"\n",
              "            style=\"display:none;\">\n",
              "\n",
              "<svg xmlns=\"http://www.w3.org/2000/svg\" height=\"24px\"viewBox=\"0 0 24 24\"\n",
              "     width=\"24px\">\n",
              "    <g>\n",
              "        <path d=\"M19 3H5c-1.1 0-2 .9-2 2v14c0 1.1.9 2 2 2h14c1.1 0 2-.9 2-2V5c0-1.1-.9-2-2-2zM9 17H7v-7h2v7zm4 0h-2V7h2v10zm4 0h-2v-4h2v4z\"/>\n",
              "    </g>\n",
              "</svg>\n",
              "  </button>\n",
              "\n",
              "<style>\n",
              "  .colab-df-quickchart {\n",
              "      --bg-color: #E8F0FE;\n",
              "      --fill-color: #1967D2;\n",
              "      --hover-bg-color: #E2EBFA;\n",
              "      --hover-fill-color: #174EA6;\n",
              "      --disabled-fill-color: #AAA;\n",
              "      --disabled-bg-color: #DDD;\n",
              "  }\n",
              "\n",
              "  [theme=dark] .colab-df-quickchart {\n",
              "      --bg-color: #3B4455;\n",
              "      --fill-color: #D2E3FC;\n",
              "      --hover-bg-color: #434B5C;\n",
              "      --hover-fill-color: #FFFFFF;\n",
              "      --disabled-bg-color: #3B4455;\n",
              "      --disabled-fill-color: #666;\n",
              "  }\n",
              "\n",
              "  .colab-df-quickchart {\n",
              "    background-color: var(--bg-color);\n",
              "    border: none;\n",
              "    border-radius: 50%;\n",
              "    cursor: pointer;\n",
              "    display: none;\n",
              "    fill: var(--fill-color);\n",
              "    height: 32px;\n",
              "    padding: 0;\n",
              "    width: 32px;\n",
              "  }\n",
              "\n",
              "  .colab-df-quickchart:hover {\n",
              "    background-color: var(--hover-bg-color);\n",
              "    box-shadow: 0 1px 2px rgba(60, 64, 67, 0.3), 0 1px 3px 1px rgba(60, 64, 67, 0.15);\n",
              "    fill: var(--button-hover-fill-color);\n",
              "  }\n",
              "\n",
              "  .colab-df-quickchart-complete:disabled,\n",
              "  .colab-df-quickchart-complete:disabled:hover {\n",
              "    background-color: var(--disabled-bg-color);\n",
              "    fill: var(--disabled-fill-color);\n",
              "    box-shadow: none;\n",
              "  }\n",
              "\n",
              "  .colab-df-spinner {\n",
              "    border: 2px solid var(--fill-color);\n",
              "    border-color: transparent;\n",
              "    border-bottom-color: var(--fill-color);\n",
              "    animation:\n",
              "      spin 1s steps(1) infinite;\n",
              "  }\n",
              "\n",
              "  @keyframes spin {\n",
              "    0% {\n",
              "      border-color: transparent;\n",
              "      border-bottom-color: var(--fill-color);\n",
              "      border-left-color: var(--fill-color);\n",
              "    }\n",
              "    20% {\n",
              "      border-color: transparent;\n",
              "      border-left-color: var(--fill-color);\n",
              "      border-top-color: var(--fill-color);\n",
              "    }\n",
              "    30% {\n",
              "      border-color: transparent;\n",
              "      border-left-color: var(--fill-color);\n",
              "      border-top-color: var(--fill-color);\n",
              "      border-right-color: var(--fill-color);\n",
              "    }\n",
              "    40% {\n",
              "      border-color: transparent;\n",
              "      border-right-color: var(--fill-color);\n",
              "      border-top-color: var(--fill-color);\n",
              "    }\n",
              "    60% {\n",
              "      border-color: transparent;\n",
              "      border-right-color: var(--fill-color);\n",
              "    }\n",
              "    80% {\n",
              "      border-color: transparent;\n",
              "      border-right-color: var(--fill-color);\n",
              "      border-bottom-color: var(--fill-color);\n",
              "    }\n",
              "    90% {\n",
              "      border-color: transparent;\n",
              "      border-bottom-color: var(--fill-color);\n",
              "    }\n",
              "  }\n",
              "</style>\n",
              "\n",
              "  <script>\n",
              "    async function quickchart(key) {\n",
              "      const quickchartButtonEl =\n",
              "        document.querySelector('#' + key + ' button');\n",
              "      quickchartButtonEl.disabled = true;  // To prevent multiple clicks.\n",
              "      quickchartButtonEl.classList.add('colab-df-spinner');\n",
              "      try {\n",
              "        const charts = await google.colab.kernel.invokeFunction(\n",
              "            'suggestCharts', [key], {});\n",
              "      } catch (error) {\n",
              "        console.error('Error during call to suggestCharts:', error);\n",
              "      }\n",
              "      quickchartButtonEl.classList.remove('colab-df-spinner');\n",
              "      quickchartButtonEl.classList.add('colab-df-quickchart-complete');\n",
              "    }\n",
              "    (() => {\n",
              "      let quickchartButtonEl =\n",
              "        document.querySelector('#df-ecda65b8-bfd4-4242-b895-bb8cf0ad8131 button');\n",
              "      quickchartButtonEl.style.display =\n",
              "        google.colab.kernel.accessAllowed ? 'block' : 'none';\n",
              "    })();\n",
              "  </script>\n",
              "</div>\n",
              "    </div>\n",
              "  </div>\n"
            ]
          },
          "metadata": {},
          "execution_count": 91
        }
      ]
    },
    {
      "cell_type": "code",
      "source": [
        "df['category'] = df['category'].fillna('Other')\n",
        "df['channel_type'] = df['channel_type'].fillna('Other')"
      ],
      "metadata": {
        "id": "i8emqXEwpNxb"
      },
      "execution_count": null,
      "outputs": []
    },
    {
      "cell_type": "code",
      "source": [
        "df.at[236, 'created_year'] = 2006\n",
        "df.at[236, 'created_month'] = 'Dec'\n",
        "df.at[236, 'created_date'] = 20\n",
        "\n",
        "df.at[468, 'created_year'] = 2008\n",
        "df.at[468, 'created_month'] = 'Sep'\n",
        "df.at[468, 'created_date'] = 17\n",
        "\n",
        "df.at[508, 'created_year'] = 2009\n",
        "df.at[508, 'created_month'] = 'Aug'\n",
        "df.at[508, 'created_date'] = 22\n",
        "\n",
        "df.at[735, 'created_year'] = 2013\n",
        "df.at[735, 'created_month'] = 'May'\n",
        "df.at[735, 'created_date'] = 20\n",
        "\n",
        "df.at[762, 'created_year'] = 2017\n",
        "df.at[762, 'created_month'] = 'Mar'\n",
        "df.at[762, 'created_date'] = 8"
      ],
      "metadata": {
        "id": "M3WtvT3Fpxc5"
      },
      "execution_count": null,
      "outputs": []
    },
    {
      "cell_type": "code",
      "source": [
        "df['mean_monthly_earnings'] = df[['lowest_monthly_earnings', 'highest_monthly_earnings']].mean(axis=1) / 10**6"
      ],
      "metadata": {
        "id": "1emotWngaAAB"
      },
      "execution_count": null,
      "outputs": []
    },
    {
      "cell_type": "code",
      "source": [
        "from sklearn.model_selection import train_test_split\n",
        "from sklearn.linear_model import LinearRegression\n",
        "from sklearn.metrics import mean_squared_error\n",
        "from sklearn.preprocessing import StandardScaler, OneHotEncoder\n",
        "from sklearn.compose import ColumnTransformer\n",
        "from sklearn.pipeline import Pipeline\n",
        "import statsmodels.api as sm\n",
        "from sklearn.metrics import r2_score"
      ],
      "metadata": {
        "id": "BEjnfsKwCJd4"
      },
      "execution_count": null,
      "outputs": []
    },
    {
      "cell_type": "markdown",
      "source": [
        "# 訂閱，觀看，影片數量和收入預測"
      ],
      "metadata": {
        "id": "9sry5ViTuszF"
      }
    },
    {
      "cell_type": "code",
      "source": [
        "features = df[['subscribers', 'video views', 'uploads']]\n",
        "target = df['mean_monthly_earnings']\n",
        "\n",
        "    # 分割數據為訓練集和測試集，並確保保持類別的均衡\n",
        "X_train, X_test, y_train, y_test = train_test_split(features, target, test_size=0.2, random_state=42)\n",
        "\n",
        "    # 定義數據預處理的管道\n",
        "preprocessor = ColumnTransformer(\n",
        "        transformers=[\n",
        "            ('num', StandardScaler(), ['subscribers', 'video views', 'uploads'])\n",
        "        ])\n",
        "\n",
        "    # 初始化線性迴歸模型\n",
        "model = LinearRegression()\n",
        "\n",
        "    # 建立管道\n",
        "pipeline = Pipeline([\n",
        "        ('preprocessor', preprocessor),\n",
        "        ('model', model)\n",
        "    ])\n",
        "\n",
        "    # 在訓練集上擬合模型\n",
        "pipeline.fit(X_train, y_train)\n",
        "\n",
        "    # 預測測試集\n",
        "y_pred = pipeline.predict(X_test)\n",
        "    # 在statsmodels中擬合模型\n",
        "X_train = sm.add_constant(X_train)  # 添加截距項\n",
        "sm_model = sm.OLS(y_train, X_train).fit()\n",
        "    # 評估模型性能\n",
        "r2 = r2_score(y_test, y_pred)\n",
        "print(f'R-squared: {r2}')\n",
        "mse = mean_squared_error(y_test, y_pred)\n",
        "print(f'Mean Squared Error: {mse}')"
      ],
      "metadata": {
        "colab": {
          "base_uri": "https://localhost:8080/"
        },
        "id": "XyyQtqtau1AO",
        "outputId": "2bd8bbb5-02bc-43e5-80ac-8a8989a4c203"
      },
      "execution_count": null,
      "outputs": [
        {
          "output_type": "stream",
          "name": "stdout",
          "text": [
            "R-squared: 0.2180718309020464\n",
            "Mean Squared Error: 0.24012208689229494\n"
          ]
        }
      ]
    },
    {
      "cell_type": "markdown",
      "source": [
        "若是沒有按照類別分類做模型，分數很差，不能用。"
      ],
      "metadata": {
        "id": "3JMaEcumwWYK"
      }
    },
    {
      "cell_type": "markdown",
      "source": [
        "# 按照類別分類後做訂閱，觀看，影片數量和收入預測"
      ],
      "metadata": {
        "id": "XVZkB9W1aLKt"
      }
    },
    {
      "cell_type": "markdown",
      "source": [
        "## 線性回歸模型"
      ],
      "metadata": {
        "id": "l6c0oSH_m0_6"
      }
    },
    {
      "cell_type": "code",
      "source": [
        "from sklearn.model_selection import cross_val_score\n",
        "categories = df['category'].unique()\n",
        "\n",
        "# 初始化一個字典，用於存儲每個類別的模型\n",
        "models2 = {}\n",
        "\n",
        "for category in categories:\n",
        "    # 選擇特定類別的數據\n",
        "    category_data = df[df['category'] == category]\n",
        "\n",
        "    # 如果該類別樣本數不足，跳過\n",
        "    if len(category_data) < 10:\n",
        "        print(f'Skipping category {category} due to insufficient data.')\n",
        "        continue\n",
        "\n",
        "    # 選擇特徵變數和目標變數\n",
        "    features = category_data[['subscribers', 'video views', 'uploads']]\n",
        "    target = category_data['mean_monthly_earnings']\n",
        "\n",
        "    # 分割數據為訓練集和測試集，並確保保持類別的均衡\n",
        "    X_train, X_test, y_train, y_test = train_test_split(features, target, test_size=0.2, random_state=42)\n",
        "\n",
        "    # 定義數據預處理的管道\n",
        "    preprocessor = ColumnTransformer(\n",
        "        transformers=[\n",
        "            ('num', StandardScaler(), ['subscribers', 'video views', 'uploads'])\n",
        "        ])\n",
        "\n",
        "    # 初始化線性迴歸模型\n",
        "    model = LinearRegression()\n",
        "\n",
        "    # 建立管道\n",
        "    pipeline = Pipeline([\n",
        "        ('preprocessor', preprocessor),\n",
        "        ('model', model)\n",
        "    ])\n",
        "\n",
        "    # 在訓練集上擬合模型\n",
        "    pipeline.fit(X_train, y_train)\n",
        "\n",
        "    # 存儲模型\n",
        "    models2[category] = pipeline\n",
        "\n",
        "    # 預測測試集\n",
        "    y_pred = pipeline.predict(X_test)\n",
        "    # 在statsmodels中擬合模型\n",
        "    X_train = sm.add_constant(X_train)  # 添加截距項\n",
        "    sm_model = sm.OLS(y_train, X_train).fit()\n",
        "    # 評估模型性能\n",
        "    r2 = r2_score(y_test, y_pred)\n",
        "    print(f'R-squared in {category}: {r2}')\n",
        "    mse = mean_squared_error(y_test, y_pred)\n",
        "    print(f'Mean Squared Error for {category}: {mse}')"
      ],
      "metadata": {
        "colab": {
          "base_uri": "https://localhost:8080/"
        },
        "id": "sFC8ITFeCLjR",
        "outputId": "263021b8-d375-4a9e-a24b-1e702fe3c438"
      },
      "execution_count": null,
      "outputs": [
        {
          "output_type": "stream",
          "name": "stdout",
          "text": [
            "R-squared in Music: 0.7630486600375337\n",
            "Mean Squared Error for Music: 0.018547693423014586\n",
            "R-squared in Film & Animation: 0.2231233088651695\n",
            "Mean Squared Error for Film & Animation: 0.16306305905068705\n",
            "R-squared in Entertainment: 0.24155633495822482\n",
            "Mean Squared Error for Entertainment: 0.33775762177390956\n",
            "R-squared in Education: 0.22332664201224905\n",
            "Mean Squared Error for Education: 0.03703967172412194\n",
            "R-squared in Shows: 0.5090030674754216\n",
            "Mean Squared Error for Shows: 1.4821088596552718\n",
            "R-squared in Other: -2.4693892363194907\n",
            "Mean Squared Error for Other: 0.36087895742532944\n",
            "R-squared in People & Blogs: 0.14969831035482062\n",
            "Mean Squared Error for People & Blogs: 0.2943966203651466\n",
            "R-squared in Gaming: -5.426590583026028\n",
            "Mean Squared Error for Gaming: 0.04266904612892314\n",
            "R-squared in Sports: -9.07325844186596\n",
            "Mean Squared Error for Sports: 4.405778556414101\n",
            "R-squared in Howto & Style: 0.1199726430652921\n",
            "Mean Squared Error for Howto & Style: 0.008222921268404463\n",
            "R-squared in News & Politics: 0.5736492392074791\n",
            "Mean Squared Error for News & Politics: 0.047466267119695656\n",
            "R-squared in Comedy: 0.17943436163847282\n",
            "Mean Squared Error for Comedy: 0.059712830344731724\n",
            "Skipping category Trailers due to insufficient data.\n",
            "Skipping category Nonprofits & Activism due to insufficient data.\n",
            "R-squared in Science & Technology: -3.5151118778973522\n",
            "Mean Squared Error for Science & Technology: 0.03989565836256749\n",
            "Skipping category Movies due to insufficient data.\n",
            "Skipping category Pets & Animals due to insufficient data.\n",
            "Skipping category Autos & Vehicles due to insufficient data.\n",
            "Skipping category Travel & Events due to insufficient data.\n"
          ]
        }
      ]
    },
    {
      "cell_type": "markdown",
      "source": [
        "根據以上數據選擇 Music,Shows 和 News & Politics"
      ],
      "metadata": {
        "id": "5mv8mX7jRoz_"
      }
    },
    {
      "cell_type": "code",
      "source": [
        "choose = [\"Music\",\"Shows\",\"News & Politics\"]\n",
        "for category in choose:\n",
        "    # 選擇特定類別的數據\n",
        "    category_data = df[df['category'] == category]\n",
        "\n",
        "    # 如果該類別樣本數不足，跳過\n",
        "    if len(category_data) < 10:\n",
        "        print(f'Skipping category {category} due to insufficient data.')\n",
        "        continue\n",
        "\n",
        "    # 選擇特徵變數和目標變數\n",
        "    features = category_data[['subscribers', 'video views', 'uploads']]\n",
        "    target = category_data['mean_monthly_earnings']\n",
        "\n",
        "    # 分割數據為訓練集和測試集，並確保保持類別的均衡\n",
        "    X_train, X_test, y_train, y_test = train_test_split(features, target, test_size=0.2, random_state=42)\n",
        "\n",
        "    # 定義數據預處理的管道\n",
        "    preprocessor = ColumnTransformer(\n",
        "        transformers=[\n",
        "            ('num', StandardScaler(), ['subscribers', 'video views', 'uploads'])\n",
        "        ])\n",
        "\n",
        "    # 初始化線性迴歸模型\n",
        "    model = LinearRegression()\n",
        "\n",
        "    # 建立管道\n",
        "    pipeline = Pipeline([\n",
        "        ('preprocessor', preprocessor),\n",
        "        ('model', model)\n",
        "    ])\n",
        "\n",
        "    # 在訓練集上擬合模型\n",
        "    pipeline.fit(X_train, y_train)\n",
        "\n",
        "    # 存儲模型\n",
        "    models2[category] = pipeline\n",
        "\n",
        "    # 預測測試集\n",
        "    y_pred = pipeline.predict(X_test)\n",
        "    # 在statsmodels中擬合模型\n",
        "    X_train = sm.add_constant(X_train)  # 添加截距項\n",
        "    sm_model = sm.OLS(y_train, X_train).fit()\n",
        "    # 評估模型性能\n",
        "    r2 = r2_score(y_test, y_pred)\n",
        "    print(f'R-squared in {category}: {r2}')\n",
        "    mse = mean_squared_error(y_test, y_pred)\n",
        "    print(f'Mean Squared Error for {category}: {mse}')"
      ],
      "metadata": {
        "colab": {
          "base_uri": "https://localhost:8080/"
        },
        "id": "jO4c0Aw5Rcm_",
        "outputId": "3ef30863-45b9-44f9-f5c9-931a7a2720cf"
      },
      "execution_count": null,
      "outputs": [
        {
          "output_type": "stream",
          "name": "stdout",
          "text": [
            "R-squared in Music: 0.7630486600375337\n",
            "Mean Squared Error for Music: 0.018547693423014586\n",
            "R-squared in Shows: 0.5090030674754216\n",
            "Mean Squared Error for Shows: 1.4821088596552718\n",
            "R-squared in News & Politics: 0.5736492392074791\n",
            "Mean Squared Error for News & Politics: 0.047466267119695656\n"
          ]
        }
      ]
    },
    {
      "cell_type": "markdown",
      "source": [
        "## Ridge"
      ],
      "metadata": {
        "id": "RR9ACXDqnLDW"
      }
    },
    {
      "cell_type": "code",
      "source": [
        "from sklearn.linear_model import Ridge\n",
        "from sklearn.model_selection import cross_val_score\n",
        "categories = df['category'].unique()\n",
        "# 初始化一個字典，用於存儲每個類別的模型\n",
        "models12 = {}\n",
        "for category in choose:\n",
        "  category_data = df[df['category'] == category]\n",
        "  if len(category_data) < 10:\n",
        "      print(f'Skipping category {category} due to insufficient data.')\n",
        "      continue\n",
        "    # 選擇特徵變數和目標變數\n",
        "  features = category_data[['subscribers', 'video views', 'uploads']]\n",
        "  target = category_data['mean_monthly_earnings']\n",
        "  X_train, X_test, y_train, y_test = train_test_split(features, target, test_size=0.2, random_state=42)\n",
        "  preprocessor = ColumnTransformer(\n",
        "        transformers=[\n",
        "            ('num', StandardScaler(), ['subscribers', 'video views', 'uploads'])\n",
        "        ])\n",
        "  # 初始化 Ridge 正規化線性迴歸模型\n",
        "  ridge_model = Ridge()  # alpha 是正規化項的強度，可以調整\n",
        "\n",
        "  # 建立管道\n",
        "  pipeline_ridge = Pipeline([\n",
        "        ('preprocessor', preprocessor),\n",
        "        ('model', ridge_model)\n",
        "    ])\n",
        "\n",
        "  # 在訓練集上擬合模型\n",
        "  pipeline_ridge.fit(X_train, y_train)\n",
        "\n",
        "  # 存儲模型\n",
        "  models12[category] = pipeline_ridge\n",
        "\n",
        "  # 預測測試集\n",
        "  y_pred_ridge = pipeline_ridge.predict(X_test)\n",
        "\n",
        "  # 評估模型性能\n",
        "  mse_ridge = mean_squared_error(y_test, y_pred_ridge)\n",
        "  r2 = r2_score(y_test, y_pred_ridge)\n",
        "  print(f'R-squared for Ridge in {category}: {r2}')\n",
        "  print(f'Mean Squared Error for Ridge in {category} : {mse_ridge}')"
      ],
      "metadata": {
        "colab": {
          "base_uri": "https://localhost:8080/"
        },
        "id": "6a2LMIaQnKHD",
        "outputId": "f2a3389f-9d10-4855-b5a6-a81db5459945"
      },
      "execution_count": null,
      "outputs": [
        {
          "output_type": "stream",
          "name": "stdout",
          "text": [
            "R-squared for Ridge in Music: 0.7652424216102294\n",
            "Mean Squared Error for Ridge in Music : 0.01837597370579334\n",
            "R-squared for Ridge in Shows: 0.5691371988863879\n",
            "Mean Squared Error for Ridge in Shows : 1.3005897441007035\n",
            "R-squared for Ridge in News & Politics: 0.5806446469397685\n",
            "Mean Squared Error for Ridge in News & Politics : 0.046687457926498005\n"
          ]
        }
      ]
    },
    {
      "cell_type": "markdown",
      "source": [
        "## Lasso回歸"
      ],
      "metadata": {
        "id": "s1j9I_PytBiy"
      }
    },
    {
      "cell_type": "code",
      "source": [
        "from sklearn.linear_model import Lasso\n",
        "categories = df['category'].unique()\n",
        "\n",
        "# 初始化一個字典，用於存儲每個類別的模型\n",
        "models13 = {}\n",
        "for category in choose:\n",
        "  category_data = df[df['category'] == category]\n",
        "  if len(category_data) < 10:\n",
        "      print(f'Skipping category {category} due to insufficient data.')\n",
        "      continue\n",
        "    # 選擇特徵變數和目標變數\n",
        "  features = category_data[['subscribers', 'video views', 'uploads']]\n",
        "  target = category_data['mean_monthly_earnings']\n",
        "  X_train, X_test, y_train, y_test = train_test_split(features, target, test_size=0.2, random_state=42)\n",
        "  preprocessor = ColumnTransformer(\n",
        "        transformers=[\n",
        "            ('num', StandardScaler(), ['subscribers', 'video views', 'uploads'])\n",
        "        ])\n",
        "  lasso_model = Lasso()\n",
        "\n",
        "# 建立管道\n",
        "  pipeline_lasso = Pipeline([\n",
        "    ('preprocessor', preprocessor),\n",
        "    ('model', lasso_model)])\n",
        "\n",
        "# 在訓練集上擬合模型\n",
        "  pipeline_lasso.fit(X_train, y_train)\n",
        "  models13[category] = pipeline_lasso\n",
        "\n",
        "# 預測測試集\n",
        "  y_pred_lasso = pipeline_lasso.predict(X_test)\n",
        "\n",
        "# 評估模型性能\n",
        "  mse_lasso = mean_squared_error(y_test, y_pred_lasso)\n",
        "  r2_lasso = r2_score(y_test, y_pred_lasso)\n",
        "  print(f'R-squared for Lasso in {category}: {r2_lasso}')\n",
        "  print(f'Mean Squared Error for Lasso in {category}: {mse_lasso}')"
      ],
      "metadata": {
        "colab": {
          "base_uri": "https://localhost:8080/"
        },
        "id": "f_mUu1mPtDmS",
        "outputId": "b16bd1ed-e350-4d40-e458-11c10a49770f"
      },
      "execution_count": null,
      "outputs": [
        {
          "output_type": "stream",
          "name": "stdout",
          "text": [
            "R-squared for Lasso in Music: -0.001575836881588577\n",
            "Mean Squared Error for Lasso in Music: 0.07839973205182804\n",
            "R-squared for Lasso in Shows: 0.183600413366092\n",
            "Mean Squared Error for Lasso in Shows: 2.464359714321528\n",
            "R-squared for Lasso in News & Politics: -0.19043143036252053\n",
            "Mean Squared Error for Lasso in News & Politics: 0.1325325095145462\n"
          ]
        }
      ]
    },
    {
      "cell_type": "markdown",
      "source": [
        "## SVM"
      ],
      "metadata": {
        "id": "giyzxs9lmp9K"
      }
    },
    {
      "cell_type": "code",
      "source": [
        "from sklearn.svm import SVR\n",
        "from sklearn.metrics import r2_score\n",
        "categories = df['category'].unique()\n",
        "\n",
        "# 初始化一個字典，用於存儲每個類別的模型\n",
        "models_r2_svm = {}\n",
        "\n",
        "for category in choose:\n",
        "  category_data = df[df['category'] == category]\n",
        "  if len(category_data) < 10:\n",
        "        print(f'Skipping category {category} due to insufficient data.')\n",
        "        continue\n",
        "\n",
        "    # 如果該類別樣本數不足，跳過\n",
        "    # 選擇特徵變數和目標變數\n",
        "  features = category_data[['subscribers', 'video views', 'uploads']]\n",
        "  target = category_data['mean_monthly_earnings']\n",
        "\n",
        "    # 分割數據為訓練集和測試集，並確保保持類別的均衡\n",
        "  X_train, X_test, y_train, y_test = train_test_split(features, target, test_size=0.2, random_state=42)\n",
        "\n",
        "    # 定義數據預處理的管道\n",
        "  preprocessor = ColumnTransformer(\n",
        "        transformers=[\n",
        "            ('num', StandardScaler(), ['subscribers', 'video views', 'uploads'])\n",
        "        ])\n",
        "  svm_model = SVR()\n",
        "\n",
        "    # 建立管道\n",
        "  pipeline_svm = Pipeline([\n",
        "        ('preprocessor', preprocessor),\n",
        "        ('model', svm_model)\n",
        "    ])\n",
        "\n",
        "    # 在訓練集上擬合模型\n",
        "  pipeline_svm.fit(X_train, y_train)\n",
        "\n",
        "    # 存儲模型\n",
        "  models_r2_svm[category] = pipeline_svm\n",
        "\n",
        "    # 預測測試集\n",
        "  y_pred_svm = pipeline_svm.predict(X_test)\n",
        "\n",
        "  # 評估模型性能\n",
        "  mse_svm = mean_squared_error(y_test, y_pred_svm)\n",
        "  r2_svm = r2_score(y_test, y_pred_svm)\n",
        "  print(f'R-squared for svm in {category}: {r2_svm}')\n",
        "  print(f'Mean Squared Error for SVM in {category}: {mse_svm}')\n"
      ],
      "metadata": {
        "colab": {
          "base_uri": "https://localhost:8080/"
        },
        "id": "DOnNOdcSMVHg",
        "outputId": "281c8818-1d7c-4490-9445-e37d6c5c4157"
      },
      "execution_count": null,
      "outputs": [
        {
          "output_type": "stream",
          "name": "stdout",
          "text": [
            "R-squared for svm in Music: 0.4732592191555819\n",
            "Mean Squared Error for SVM in Music: 0.041231362177775184\n",
            "R-squared for svm in Shows: 0.49476110827574105\n",
            "Mean Squared Error for SVM in Shows: 1.5250992176604896\n",
            "R-squared for svm in News & Politics: 0.023539502209459884\n",
            "Mean Squared Error for SVM in News & Politics: 0.10871080594250891\n"
          ]
        }
      ]
    },
    {
      "cell_type": "markdown",
      "source": [
        "## 共線性問題"
      ],
      "metadata": {
        "id": "VtP8u7HchbD-"
      }
    },
    {
      "cell_type": "code",
      "source": [
        "from statsmodels.stats.outliers_influence import variance_inflation_factor\n",
        "from sklearn.preprocessing import StandardScaler\n",
        "for category in choose:\n",
        "  category_data = df[df['category'] == category]\n",
        "  features = category_data[['subscribers', 'video views', 'uploads']]\n",
        "\n",
        "# 对特征进行标准化，因为VIF对变量的尺度敏感\n",
        "  scaler = StandardScaler()\n",
        "  scaled_features = scaler.fit_transform(features)\n",
        "\n",
        "# 计算 VIF\n",
        "  vif_data = pd.DataFrame()\n",
        "  vif_data[\"Variable\"] = features.columns\n",
        "  vif_data[\"VIF\"] = [variance_inflation_factor(scaled_features, i) for i in range(scaled_features.shape[1])]\n",
        "\n",
        "# 打印结果\n",
        "  print(category)\n",
        "  print(vif_data)"
      ],
      "metadata": {
        "colab": {
          "base_uri": "https://localhost:8080/"
        },
        "outputId": "52b2423f-6b22-4c80-b5e4-2a25edd582eb",
        "id": "bwla-djlhbEM"
      },
      "execution_count": null,
      "outputs": [
        {
          "output_type": "stream",
          "name": "stdout",
          "text": [
            "Music\n",
            "      Variable       VIF\n",
            "0  subscribers  5.101255\n",
            "1  video views  5.253076\n",
            "2      uploads  1.081033\n",
            "Shows\n",
            "      Variable        VIF\n",
            "0  subscribers  22.787826\n",
            "1  video views  27.824055\n",
            "2      uploads   4.826462\n",
            "News & Politics\n",
            "      Variable       VIF\n",
            "0  subscribers  1.490871\n",
            "1  video views  1.752519\n",
            "2      uploads  1.232431\n"
          ]
        }
      ]
    },
    {
      "cell_type": "markdown",
      "source": [
        "可以看到在Shows中有共線性的問題，而在Shows和News & Politics在以上的分數表現都不佳，因此另外用DecisionTreeRegressor做。"
      ],
      "metadata": {
        "id": "n_8ykDxviFN0"
      }
    },
    {
      "cell_type": "markdown",
      "source": [
        "## DecisionTreeRegressor"
      ],
      "metadata": {
        "id": "YDNia7vavKtB"
      }
    },
    {
      "cell_type": "code",
      "source": [
        "from sklearn.tree import DecisionTreeRegressor\n",
        "\n",
        "# 初始化一個字典，用於存儲每個類別的模型\n",
        "for category in choose:\n",
        "  category_data = df[df['category'] == category]\n",
        "  if len(category_data) < 10:\n",
        "      print(f'Skipping category {category} due to insufficient data.')\n",
        "      continue\n",
        "    # 選擇特徵變數和目標變數\n",
        "  target = category_data['mean_monthly_earnings']\n",
        "  features = category_data[['subscribers', 'video views', 'uploads']]\n",
        "  X_train, X_test, y_train, y_test = train_test_split(features, target, test_size=0.2, random_state=42)\n",
        "  preprocessor = ColumnTransformer(\n",
        "        transformers=[\n",
        "            ('num', StandardScaler(), ['subscribers', 'video views', 'uploads'])\n",
        "        ])\n",
        "  # 初始化決策樹模型\n",
        "  tree_model = DecisionTreeRegressor()\n",
        "  pipeline_tree = Pipeline([\n",
        "    ('preprocessor', preprocessor),\n",
        "    ('model', tree_model)])\n",
        "  pipeline_tree.fit(X_train, y_train)\n",
        "  y_pred_tree = pipeline_tree.predict(X_test)\n",
        "  r2_tree = r2_score(y_test, y_pred_tree)\n",
        "  print(f'R-squared for Decision Tree in {category}: {r2_tree}')\n",
        "\n",
        "  mse_tree = mean_squared_error(y_test, y_pred_tree)\n",
        "  print(f'MSE for Decision Tree in {category}: {mse_tree}')"
      ],
      "metadata": {
        "colab": {
          "base_uri": "https://localhost:8080/"
        },
        "id": "fNn_XhXuXVrF",
        "outputId": "6a4c7fdf-eeed-4a88-b9ac-e049a367af34"
      },
      "execution_count": null,
      "outputs": [
        {
          "output_type": "stream",
          "name": "stdout",
          "text": [
            "R-squared for Decision Tree in Music: -0.40286338176014613\n",
            "MSE for Decision Tree in Music: 0.1098110689029329\n",
            "R-squared for Decision Tree in Shows: 0.9699801523768099\n",
            "MSE for Decision Tree in Shows: 0.0906170266666666\n",
            "R-squared for Decision Tree in News & Politics: 0.7111614007547299\n",
            "MSE for Decision Tree in News & Politics: 0.03215683274675001\n"
          ]
        }
      ]
    },
    {
      "cell_type": "markdown",
      "source": [
        "可以從上面發現 Music 用 Ridge 做分數最高\\\n",
        "Shows 和 News & Politics 用 DecisionTreeRegressor 做最高\\\n",
        "可能原因:Ridge是一種線性模型，而在 Music 這個類別中的變數比較符合線性關係，至於 lasso會有問題可能是因為變數間的關係性較高，而lasso會把係數壓到0導致分數很低。\\\n",
        "而從 vif 中可以發現 Shows 的共線性問題很大，所以用非線性模型做會比較好。\\\n",
        "因為 Shows 和 News & Politics 用 DecisionTreeRegressor 做最高，所以 Shows 和 News & Politics 就可能不是線性關係。\\\n",
        "要注意的是 DecisionTreeRegressor 可能會有過度擬合的問題"
      ],
      "metadata": {
        "id": "Z20k_5mlfr26"
      }
    },
    {
      "cell_type": "markdown",
      "source": [
        "## 用交叉驗證檢查過度擬合"
      ],
      "metadata": {
        "id": "-NZ9OuUAms-R"
      }
    },
    {
      "cell_type": "code",
      "source": [
        "from sklearn.model_selection import cross_val_score\n",
        "from sklearn.tree import DecisionTreeRegressor\n",
        "\n",
        "\n",
        "for category in choose:\n",
        "    category_data = df[df['category'] == category]\n",
        "    if len(category_data) < 10:\n",
        "        print(f'Skipping category {category} due to insufficient data.')\n",
        "        continue\n",
        "\n",
        "\n",
        "    target = category_data['mean_monthly_earnings']\n",
        "    features = category_data[['subscribers', 'video views', 'uploads']]\n",
        "\n",
        "\n",
        "    tree_model = DecisionTreeRegressor(random_state=2024)\n",
        "\n",
        "\n",
        "    pipeline_tree = Pipeline([\n",
        "        ('preprocessor', preprocessor),\n",
        "        ('model', tree_model)\n",
        "    ])\n",
        "\n",
        "    r2_scores = cross_val_score(pipeline_tree, features, target, cv=5, scoring='r2')\n",
        "    mse_scores = cross_val_score(pipeline_tree, features, target, cv=5, scoring='neg_mean_squared_error')\n",
        "\n",
        "\n",
        "    mean_r2 = r2_scores.mean()\n",
        "    mean_mse = -mse_scores.mean()\n",
        "\n",
        "    print(f'R-squared for Decision Tree in {category}: {mean_r2}')\n",
        "    print(f'Mean Squared Error for Decision Tree in {category}: {mean_mse}')"
      ],
      "metadata": {
        "colab": {
          "base_uri": "https://localhost:8080/"
        },
        "id": "ojlivln-mr9y",
        "outputId": "3f4348cb-35eb-4781-e08f-a8643b6b99b0"
      },
      "execution_count": null,
      "outputs": [
        {
          "output_type": "stream",
          "name": "stdout",
          "text": [
            "R-squared for Decision Tree in Music: -1.2011594257071274\n",
            "Mean Squared Error for Decision Tree in Music: 0.2047327792089612\n",
            "R-squared for Decision Tree in Shows: -56.217032680358514\n",
            "Mean Squared Error for Decision Tree in Shows: 1.3513682485833327\n",
            "R-squared for Decision Tree in News & Politics: -0.12156656957719388\n",
            "Mean Squared Error for Decision Tree in News & Politics: 0.05658769472270062\n"
          ]
        }
      ]
    },
    {
      "cell_type": "markdown",
      "source": [
        "可以發現使用 DecisionTreeRegressor 會出現過度擬合的問題，所以這個方法在實際上也沒辦法用。"
      ],
      "metadata": {
        "id": "SbMLIVzF2Dul"
      }
    },
    {
      "cell_type": "markdown",
      "source": [
        "##增加變數"
      ],
      "metadata": {
        "id": "DMybpJH9eHHg"
      }
    },
    {
      "cell_type": "markdown",
      "source": [
        "從以上幾個模型可以發現都有一些問題，所以我們這裡考慮增加變數來增進模型，透過 mean_monthly_earnings 和其他變數的 corr 來挑選增加的變數。"
      ],
      "metadata": {
        "id": "ZdX4HzSdyA2y"
      }
    },
    {
      "cell_type": "code",
      "source": [
        "correlation_matrix = df.corr()\n",
        "correlation_matrix.loc[\"mean_monthly_earnings\"]"
      ],
      "metadata": {
        "colab": {
          "base_uri": "https://localhost:8080/"
        },
        "id": "eJ85wxsmyAlN",
        "outputId": "ed40c93e-ec90-41d4-9dd3-cdca9d545105"
      },
      "execution_count": null,
      "outputs": [
        {
          "output_type": "stream",
          "name": "stderr",
          "text": [
            "<ipython-input-18-040935f9bef5>:1: FutureWarning: The default value of numeric_only in DataFrame.corr is deprecated. In a future version, it will default to False. Select only valid columns or specify the value of numeric_only to silence this warning.\n",
            "  correlation_matrix = df.corr()\n"
          ]
        },
        {
          "output_type": "execute_result",
          "data": {
            "text/plain": [
              "rank                                      -0.248071\n",
              "subscribers                                0.388601\n",
              "video views                                0.551494\n",
              "uploads                                    0.167262\n",
              "video_views_rank                          -0.208932\n",
              "country_rank                              -0.148960\n",
              "channel_type_rank                         -0.187967\n",
              "video_views_for_the_last_30_days           0.680293\n",
              "lowest_monthly_earnings                    0.999960\n",
              "highest_monthly_earnings                   1.000000\n",
              "lowest_yearly_earnings                     0.999890\n",
              "highest_yearly_earnings                    0.999958\n",
              "subscribers_for_last_30_days               0.679681\n",
              "created_year                               0.073230\n",
              "created_date                              -0.040402\n",
              "Gross tertiary education enrollment (%)   -0.061986\n",
              "Population                                 0.104787\n",
              "Unemployment rate                         -0.042642\n",
              "Urban_population                           0.081225\n",
              "Latitude                                   0.006856\n",
              "Longitude                                  0.100304\n",
              "mean_monthly_earnings                      1.000000\n",
              "Name: mean_monthly_earnings, dtype: float64"
            ]
          },
          "metadata": {},
          "execution_count": 18
        }
      ]
    },
    {
      "cell_type": "markdown",
      "source": [
        "這裡我們增加 video_views_for_the_last_30_days 和 subscribers_for_last_30_days 這兩個變數"
      ],
      "metadata": {
        "id": "1f3HvCnhytK8"
      }
    },
    {
      "cell_type": "code",
      "source": [
        "df['video_views_for_the_last_30_days'] = df['video_views_for_the_last_30_days'].fillna(0)\n",
        "df['subscribers_for_last_30_days'] = df['subscribers_for_last_30_days'].fillna(0)"
      ],
      "metadata": {
        "id": "cw7jxVpGzF8Z"
      },
      "execution_count": null,
      "outputs": []
    },
    {
      "cell_type": "markdown",
      "source": [
        "用 Ridge 做"
      ],
      "metadata": {
        "id": "GEwGL59U1gCI"
      }
    },
    {
      "cell_type": "code",
      "source": [
        "categories = df['category'].unique()\n",
        "# 初始化一個字典，用於存儲每個類別的模型\n",
        "models12 = {}\n",
        "for category in choose:\n",
        "  category_data = df[df['category'] == category]\n",
        "  if len(category_data) < 10:\n",
        "      print(f'Skipping category {category} due to insufficient data.')\n",
        "      continue\n",
        "    # 選擇特徵變數和目標變數\n",
        "  features = category_data[['subscribers', 'video views', 'uploads','video_views_for_the_last_30_days','subscribers_for_last_30_days']]\n",
        "  target = category_data['mean_monthly_earnings']\n",
        "  X_train, X_test, y_train, y_test = train_test_split(features, target, test_size=0.2, random_state=42)\n",
        "  preprocessor = ColumnTransformer(\n",
        "        transformers=[\n",
        "            ('num', StandardScaler(), ['subscribers', 'video views', 'uploads','video_views_for_the_last_30_days','subscribers_for_last_30_days'])\n",
        "        ])\n",
        "  # 初始化 Ridge 正規化線性迴歸模型\n",
        "  ridge_model = Ridge()  # alpha 是正規化項的強度，可以調整\n",
        "\n",
        "  # 建立管道\n",
        "  pipeline_ridge = Pipeline([\n",
        "        ('preprocessor', preprocessor),\n",
        "        ('model', ridge_model)\n",
        "    ])\n",
        "\n",
        "  # 在訓練集上擬合模型\n",
        "  pipeline_ridge.fit(X_train, y_train)\n",
        "\n",
        "  # 存儲模型\n",
        "  models12[category] = pipeline_ridge\n",
        "\n",
        "  # 預測測試集\n",
        "  y_pred_ridge = pipeline_ridge.predict(X_test)\n",
        "\n",
        "  # 評估模型性能\n",
        "  mse_ridge = mean_squared_error(y_test, y_pred_ridge)\n",
        "  r2 = r2_score(y_test, y_pred_ridge)\n",
        "  print(f'R-squared for Ridge in {category}: {r2}')\n",
        "  print(f'Mean Squared Error for Ridge in {category} : {mse_ridge}')"
      ],
      "metadata": {
        "colab": {
          "base_uri": "https://localhost:8080/"
        },
        "id": "9CG-n2WoeGqM",
        "outputId": "5c9653c6-96d3-4ae2-d295-822ba3a00b0b"
      },
      "execution_count": null,
      "outputs": [
        {
          "output_type": "stream",
          "name": "stdout",
          "text": [
            "R-squared for Ridge in Music: 0.9063144246849136\n",
            "Mean Squared Error for Ridge in Music : 0.007333367810362303\n",
            "R-squared for Ridge in Shows: 0.9234818878078676\n",
            "Mean Squared Error for Ridge in Shows : 0.23097531673149216\n",
            "R-squared for Ridge in News & Politics: 0.9977536120287859\n",
            "Mean Squared Error for Ridge in News & Politics : 0.00025009372868930123\n"
          ]
        }
      ]
    },
    {
      "cell_type": "markdown",
      "source": [
        "增加變數後確實也增加了R-squared，接下來做一些檢查。"
      ],
      "metadata": {
        "id": "S-PNowTtjBLz"
      }
    },
    {
      "cell_type": "markdown",
      "source": [
        "VIF"
      ],
      "metadata": {
        "id": "Qp3MyhQgf3Y7"
      }
    },
    {
      "cell_type": "code",
      "source": [
        "for category in choose:\n",
        "  category_data = df[df['category'] == category]\n",
        "  features = category_data[['subscribers', 'video views', 'uploads','video_views_for_the_last_30_days','subscribers_for_last_30_days']]\n",
        "\n",
        "# 对特征进行标准化，因为VIF对变量的尺度敏感\n",
        "  scaler = StandardScaler()\n",
        "  scaled_features = scaler.fit_transform(features)\n",
        "\n",
        "# 计算 VIF\n",
        "  vif_data = pd.DataFrame()\n",
        "  vif_data[\"Variable\"] = features.columns\n",
        "  vif_data[\"VIF\"] = [variance_inflation_factor(scaled_features, i) for i in range(scaled_features.shape[1])]\n",
        "\n",
        "# 打印结果\n",
        "  print(category)\n",
        "  print(vif_data)"
      ],
      "metadata": {
        "colab": {
          "base_uri": "https://localhost:8080/"
        },
        "id": "PXycvWVbf2-6",
        "outputId": "1aa814ee-f9bc-4f21-d4bd-aa9810cf729d"
      },
      "execution_count": null,
      "outputs": [
        {
          "output_type": "stream",
          "name": "stdout",
          "text": [
            "Music\n",
            "                           Variable       VIF\n",
            "0                       subscribers  5.915155\n",
            "1                       video views  5.319025\n",
            "2                           uploads  1.133219\n",
            "3  video_views_for_the_last_30_days  1.159356\n",
            "4      subscribers_for_last_30_days  2.453707\n",
            "Shows\n",
            "                           Variable        VIF\n",
            "0                       subscribers  30.794969\n",
            "1                       video views  87.644201\n",
            "2                           uploads   5.795107\n",
            "3  video_views_for_the_last_30_days  57.366437\n",
            "4      subscribers_for_last_30_days   7.648228\n",
            "News & Politics\n",
            "                           Variable       VIF\n",
            "0                       subscribers  2.178656\n",
            "1                       video views  2.442024\n",
            "2                           uploads  1.774553\n",
            "3  video_views_for_the_last_30_days  4.465913\n",
            "4      subscribers_for_last_30_days  3.421204\n"
          ]
        }
      ]
    },
    {
      "cell_type": "markdown",
      "source": [
        "可以看到在Shows中還是有共線性的問題，而其他兩者沒有。"
      ],
      "metadata": {
        "id": "cV4labhBjMIx"
      }
    },
    {
      "cell_type": "markdown",
      "source": [
        "交叉驗證"
      ],
      "metadata": {
        "id": "8juOwcd1z44z"
      }
    },
    {
      "cell_type": "code",
      "source": [
        "from sklearn.model_selection import cross_val_score\n",
        "\n",
        "choose = [\"Music\", \"Shows\", \"News & Politics\"]\n",
        "for category in choose:\n",
        "    # 選擇特定類別的數據\n",
        "    category_data = df[df['category'] == category]\n",
        "\n",
        "    # 如果該類別樣本數不足，跳過\n",
        "    if len(category_data) < 10:\n",
        "        print(f'Skipping category {category} due to insufficient data.')\n",
        "        continue\n",
        "\n",
        "    # 選擇特徵變數和目標變數\n",
        "    features = category_data[['subscribers', 'video views', 'uploads', 'video_views_for_the_last_30_days', 'subscribers_for_last_30_days']]\n",
        "    target = category_data['mean_monthly_earnings']\n",
        "\n",
        "    # 定義數據預處理的管道\n",
        "    preprocessor = ColumnTransformer(\n",
        "        transformers=[\n",
        "            ('num', StandardScaler(), ['subscribers', 'video views', 'uploads', 'video_views_for_the_last_30_days', 'subscribers_for_last_30_days'])\n",
        "        ])\n",
        "\n",
        "    # 初始化線性迴歸模型\n",
        "    model = Ridge()\n",
        "\n",
        "    # 建立管道\n",
        "    pipeline = Pipeline([\n",
        "        ('preprocessor', preprocessor),\n",
        "        ('model', model)])\n",
        "\n",
        "    # 使用交叉驗證評估模型性能\n",
        "    scores = cross_val_score(pipeline, features, target, cv=5, scoring='r2')  # 這裡使用 R-squared 作為評分指標\n",
        "\n",
        "    # 列印每個折疊的 R-squared 分數\n",
        "    print(f'R-squared scores for {category}: {scores}')\n",
        "\n",
        "    # 列印平均 R-squared 分數\n",
        "    print(f'Mean R-squared for {category}: {scores.mean()}')"
      ],
      "metadata": {
        "colab": {
          "base_uri": "https://localhost:8080/"
        },
        "id": "20hmM4kvz7oN",
        "outputId": "a8804711-0961-438a-8926-b8dd538bf065"
      },
      "execution_count": null,
      "outputs": [
        {
          "output_type": "stream",
          "name": "stdout",
          "text": [
            "R-squared scores for Music: [  0.65194335   0.62822643 -95.20073603   0.52221068   0.62627652]\n",
            "Mean R-squared for Music: -18.554415811430324\n",
            "R-squared scores for Shows: [  0.86525449   0.95946996  -0.13708126   0.97390454 -37.30417976]\n",
            "Mean R-squared for Shows: -6.92852640672874\n",
            "R-squared scores for News & Politics: [0.97431978 0.96761274 0.98750225 0.98579127 0.96771222]\n",
            "Mean R-squared for News & Politics: 0.9765876519452311\n"
          ]
        }
      ]
    },
    {
      "cell_type": "markdown",
      "source": [
        "## 用DecisionTreeRegressor"
      ],
      "metadata": {
        "id": "7cIFtADIjxhO"
      }
    },
    {
      "cell_type": "code",
      "source": [
        "from sklearn.tree import DecisionTreeRegressor\n",
        "\n",
        "# 初始化一個字典，用於存儲每個類別的模型\n",
        "for category in choose:\n",
        "  category_data = df[df['category'] == category]\n",
        "  if len(category_data) < 10:\n",
        "      print(f'Skipping category {category} due to insufficient data.')\n",
        "      continue\n",
        "    # 選擇特徵變數和目標變數\n",
        "  target = category_data['mean_monthly_earnings']\n",
        "  features = category_data[['subscribers', 'video views', 'uploads', 'video_views_for_the_last_30_days', 'subscribers_for_last_30_days']]\n",
        "  X_train, X_test, y_train, y_test = train_test_split(features, target, test_size=0.2, random_state=42)\n",
        "  preprocessor = ColumnTransformer(\n",
        "        transformers=[\n",
        "            ('num', StandardScaler(), ['subscribers', 'video views', 'uploads', 'video_views_for_the_last_30_days', 'subscribers_for_last_30_days'])\n",
        "        ])\n",
        "  # 初始化決策樹模型\n",
        "  tree_model = DecisionTreeRegressor()\n",
        "  pipeline_tree = Pipeline([\n",
        "    ('preprocessor', preprocessor),\n",
        "    ('model', tree_model)])\n",
        "  pipeline_tree.fit(X_train, y_train)\n",
        "  y_pred_tree = pipeline_tree.predict(X_test)\n",
        "  r2_tree = r2_score(y_test, y_pred_tree)\n",
        "  print(f'R-squared for Decision Tree in {category}: {r2_tree}')\n",
        "\n",
        "  mse_tree = mean_squared_error(y_test, y_pred_tree)\n",
        "  print(f'MSE for Decision Tree in {category}: {mse_tree}')"
      ],
      "metadata": {
        "colab": {
          "base_uri": "https://localhost:8080/"
        },
        "id": "4yW5P7rekD8y",
        "outputId": "263043d5-eea0-4251-85ed-78e7d1113a35"
      },
      "execution_count": null,
      "outputs": [
        {
          "output_type": "stream",
          "name": "stdout",
          "text": [
            "R-squared for Decision Tree in Music: 0.9907002661513895\n",
            "MSE for Decision Tree in Music: 0.0007279495121951223\n",
            "R-squared for Decision Tree in Shows: 0.983512025295554\n",
            "MSE for Decision Tree in Shows: 0.04977011416666657\n",
            "R-squared for Decision Tree in News & Politics: 0.9769566402367057\n",
            "MSE for Decision Tree in News & Politics: 0.0025654516666666683\n"
          ]
        }
      ]
    },
    {
      "cell_type": "markdown",
      "source": [
        "交叉檢定"
      ],
      "metadata": {
        "id": "JB7YQ9P0kNmx"
      }
    },
    {
      "cell_type": "code",
      "source": [
        "from sklearn.model_selection import cross_val_score\n",
        "from sklearn.tree import DecisionTreeRegressor\n",
        "\n",
        "\n",
        "for category in choose:\n",
        "    category_data = df[df['category'] == category]\n",
        "    if len(category_data) < 10:\n",
        "        print(f'Skipping category {category} due to insufficient data.')\n",
        "        continue\n",
        "\n",
        "\n",
        "    target = category_data['mean_monthly_earnings']\n",
        "    features = category_data[['subscribers', 'video views', 'uploads', 'video_views_for_the_last_30_days', 'subscribers_for_last_30_days']]\n",
        "\n",
        "\n",
        "    tree_model = DecisionTreeRegressor(random_state=2024)\n",
        "\n",
        "\n",
        "    pipeline_tree = Pipeline([\n",
        "        ('preprocessor', preprocessor),\n",
        "        ('model', tree_model)\n",
        "    ])\n",
        "\n",
        "    r2_scores = cross_val_score(pipeline_tree, features, target, cv=5, scoring='r2')\n",
        "    mse_scores = cross_val_score(pipeline_tree, features, target, cv=5, scoring='neg_mean_squared_error')\n",
        "\n",
        "\n",
        "    mean_r2 = r2_scores.mean()\n",
        "    mean_mse = -mse_scores.mean()\n",
        "\n",
        "    print(f'R-squared for Decision Tree in {category}: {mean_r2}')\n",
        "    print(f'Mean Squared Error for Decision Tree in {category}: {mean_mse}')"
      ],
      "metadata": {
        "colab": {
          "base_uri": "https://localhost:8080/"
        },
        "id": "nN-2yn3Djw__",
        "outputId": "be8554ca-5dc3-4b89-c87a-d03860b31ff9"
      },
      "execution_count": null,
      "outputs": [
        {
          "output_type": "stream",
          "name": "stdout",
          "text": [
            "R-squared for Decision Tree in Music: -0.7749481835630323\n",
            "Mean Squared Error for Decision Tree in Music: 0.1773315598788025\n",
            "R-squared for Decision Tree in Shows: -93.65255065635122\n",
            "Mean Squared Error for Decision Tree in Shows: 0.8508462426666664\n",
            "R-squared for Decision Tree in News & Politics: 0.8425085044998578\n",
            "Mean Squared Error for Decision Tree in News & Politics: 0.013185325045615834\n"
          ]
        }
      ]
    },
    {
      "cell_type": "markdown",
      "source": [
        "## 小結"
      ],
      "metadata": {
        "id": "0shGAhPioBur"
      }
    },
    {
      "cell_type": "markdown",
      "source": [
        "從以上的結果發現在News & Politics這個類別中，我們的模型有很高的分數，在Music和Shows中發現有過度擬和的問題，Shows也有共線性的問題。\\\n",
        "代表未來若是要做預測，可能只有在News & Politics這個類別中有比較好的效果。(在變數是這五個的情況下)"
      ],
      "metadata": {
        "id": "6ztEXaeAm0R4"
      }
    },
    {
      "cell_type": "markdown",
      "source": [
        "# 預測用戶是否會訂閱新的頻道"
      ],
      "metadata": {
        "id": "Jto5ZX48W9Cq"
      }
    },
    {
      "cell_type": "code",
      "source": [
        "from sklearn.model_selection import train_test_split\n",
        "from sklearn.linear_model import LogisticRegression\n",
        "from sklearn.metrics import accuracy_score, classification_report\n",
        "from sklearn.preprocessing import LabelEncoder\n",
        "\n",
        "# 假設您的目標是預測用戶是否會訂閱新的頻道，這裡創建一個二元的目標變數 'subscribe_future'\n",
        "df['subscribers_for_last_30_days']=df['subscribers_for_last_30_days'].fillna(0)\n",
        "df['subscribe_future'] = (df['subscribers_for_last_30_days'] > 20000).astype(int)\n",
        "\n",
        "# 選擇特徵和目標變數\n",
        "features = df[['subscribers', 'video views', 'uploads', 'subscribers_for_last_30_days']]\n",
        "target = df['subscribe_future']\n",
        "\n",
        "# 對類別特徵進行編碼\n",
        "label_encoder = LabelEncoder()\n",
        "df['category_encoded'] = label_encoder.fit_transform(df['category'])\n",
        "\n",
        "# 加入編碼後的類別特徵\n",
        "features['category_encoded'] = df['category_encoded']\n",
        "\n",
        "# 分割數據集\n",
        "X_train, X_test, y_train, y_test = train_test_split(features, target, test_size=0.2, random_state=42)\n",
        "\n",
        "# 初始化邏輯回歸模型\n",
        "model = LogisticRegression()\n",
        "\n",
        "# 訓練模型\n",
        "model.fit(X_train, y_train)\n",
        "\n",
        "# 預測\n",
        "y_pred = model.predict(X_test)\n",
        "\n",
        "# 評估模型性能\n",
        "accuracy = accuracy_score(y_test, y_pred)\n",
        "report = classification_report(y_test, y_pred)\n",
        "\n",
        "print(f'Accuracy: {accuracy}')\n",
        "print(f'Classification Report:\\n{report}')"
      ],
      "metadata": {
        "colab": {
          "base_uri": "https://localhost:8080/"
        },
        "id": "dwkXML8GV1we",
        "outputId": "075ff02f-c856-41af-b65d-e4a25cdd8cf0"
      },
      "execution_count": null,
      "outputs": [
        {
          "output_type": "stream",
          "name": "stdout",
          "text": [
            "Accuracy: 1.0\n",
            "Classification Report:\n",
            "              precision    recall  f1-score   support\n",
            "\n",
            "           0       1.00      1.00      1.00        68\n",
            "           1       1.00      1.00      1.00       131\n",
            "\n",
            "    accuracy                           1.00       199\n",
            "   macro avg       1.00      1.00      1.00       199\n",
            "weighted avg       1.00      1.00      1.00       199\n",
            "\n"
          ]
        },
        {
          "output_type": "stream",
          "name": "stderr",
          "text": [
            "<ipython-input-51-b9edf811e081>:19: SettingWithCopyWarning: \n",
            "A value is trying to be set on a copy of a slice from a DataFrame.\n",
            "Try using .loc[row_indexer,col_indexer] = value instead\n",
            "\n",
            "See the caveats in the documentation: https://pandas.pydata.org/pandas-docs/stable/user_guide/indexing.html#returning-a-view-versus-a-copy\n",
            "  features['category_encoded'] = df['category_encoded']\n"
          ]
        }
      ]
    },
    {
      "cell_type": "markdown",
      "source": [
        "## 查看樣本比例差異"
      ],
      "metadata": {
        "id": "R-6nIGmN7yKb"
      }
    },
    {
      "cell_type": "code",
      "source": [
        "df['subscribe_future'].value_counts()"
      ],
      "metadata": {
        "colab": {
          "base_uri": "https://localhost:8080/"
        },
        "outputId": "54964525-1755-477a-8287-fec7513d4769",
        "id": "jh5TxAUf7uqY"
      },
      "execution_count": null,
      "outputs": [
        {
          "output_type": "execute_result",
          "data": {
            "text/plain": [
              "1    598\n",
              "0    397\n",
              "Name: subscribe_future, dtype: int64"
            ]
          },
          "metadata": {},
          "execution_count": 52
        }
      ]
    },
    {
      "cell_type": "markdown",
      "source": [
        "這表示類別 1 的樣本數比類別 0 多。樣本數的不同可能對某些機器學習模型產生影響，特別是對於某些算法來說，較小的類別可能受到較少的關注。"
      ],
      "metadata": {
        "id": "5oEI53qK74NQ"
      }
    },
    {
      "cell_type": "code",
      "source": [
        "df['subscribers_for_last_30_days'].value_counts().head()"
      ],
      "metadata": {
        "colab": {
          "base_uri": "https://localhost:8080/"
        },
        "id": "oJiIoZP98fE_",
        "outputId": "20056333-bf24-4ca4-cfb8-5b3c4986af13"
      },
      "execution_count": null,
      "outputs": [
        {
          "output_type": "execute_result",
          "data": {
            "text/plain": [
              "0.0         337\n",
              "100000.0    256\n",
              "200000.0    104\n",
              "300000.0     59\n",
              "400000.0     39\n",
              "Name: subscribers_for_last_30_days, dtype: int64"
            ]
          },
          "metadata": {},
          "execution_count": 55
        }
      ]
    },
    {
      "cell_type": "markdown",
      "source": [
        "因為數據的關係，沒有辦法做到1和0的比例接近1:1，所以採用交叉驗證來檢測是否有問題。"
      ],
      "metadata": {
        "id": "xDbhFS4v8jRz"
      }
    },
    {
      "cell_type": "markdown",
      "source": [
        "## 用交叉驗證"
      ],
      "metadata": {
        "id": "hYbHE1ehtn1I"
      }
    },
    {
      "cell_type": "code",
      "source": [
        "model1 = LogisticRegression()\n",
        "\n",
        "# 对整个数据集进行交叉验证，cv参数指定交叉验证的折数\n",
        "cross_val_scores = cross_val_score(model1, features, target, cv=5, scoring='accuracy')\n",
        "\n",
        "# 打印每次交叉验证的准确率\n",
        "for i, score in enumerate(cross_val_scores, 1):\n",
        "    print(f'Fold {i}: {score}')\n",
        "\n",
        "# 打印平均准确率\n",
        "print(f'Mean Accuracy: {cross_val_scores.mean()}')"
      ],
      "metadata": {
        "colab": {
          "base_uri": "https://localhost:8080/"
        },
        "id": "PM8A34-ntjq5",
        "outputId": "74468c9c-9d4a-48a4-f347-53cf80f8c171"
      },
      "execution_count": null,
      "outputs": [
        {
          "output_type": "stream",
          "name": "stdout",
          "text": [
            "Fold 1: 0.9396984924623115\n",
            "Fold 2: 1.0\n",
            "Fold 3: 1.0\n",
            "Fold 4: 1.0\n",
            "Fold 5: 0.9949748743718593\n",
            "Mean Accuracy: 0.9869346733668343\n"
          ]
        },
        {
          "output_type": "stream",
          "name": "stderr",
          "text": [
            "/usr/local/lib/python3.10/dist-packages/sklearn/linear_model/_logistic.py:458: ConvergenceWarning: lbfgs failed to converge (status=2):\n",
            "ABNORMAL_TERMINATION_IN_LNSRCH.\n",
            "\n",
            "Increase the number of iterations (max_iter) or scale the data as shown in:\n",
            "    https://scikit-learn.org/stable/modules/preprocessing.html\n",
            "Please also refer to the documentation for alternative solver options:\n",
            "    https://scikit-learn.org/stable/modules/linear_model.html#logistic-regression\n",
            "  n_iter_i = _check_optimize_result(\n"
          ]
        }
      ]
    },
    {
      "cell_type": "markdown",
      "source": [
        "雖然樣本比例有些差異，不過交叉驗證後也沒有太大問題，準確度也很高，可以參考，但樣本比例差異可能是隱憂。"
      ],
      "metadata": {
        "id": "a17LcRtj4jdj"
      }
    },
    {
      "cell_type": "markdown",
      "source": [
        "Accuracy (準確度): 準確度是模型正確預測的樣本比例。在這裡，準確度為 99.5%，這表示模型正確預測了 99.5% 的測試樣本。\n",
        "\n",
        "Classification Report (分類報告):\n",
        "\n",
        "Precision (精確度):\\\n",
        "對於類別 0（未訂閱新的頻道），精確度為 100%。這表示模型在預測為未訂閱的情況下，有 100% 的機會是正確的。\\\n",
        "對於類別 1（訂閱新的頻道），精確度為 99%。這表示模型在預測為訂閱的情況下，有 99% 的機會是正確的。\\\n",
        "Recall (召回率):\\\n",
        "對於類別 0，召回率為 99%。這表示實際為未訂閱的樣本中，有 99% 被模型正確預測為未訂閱。\\\n",
        "對於類別 1，召回率為 100%。這表示實際為訂閱的樣本中，有 100% 被模型正確預測為訂閱。\\\n",
        "F1-Score (F1 分數):\\\n",
        "F1 分數是精確度和召回率的調和平均值。對於兩個類別，F1 分數都非常高，這是一個良好的指標。\\\n",
        "Support:\\\n",
        "支持數量是每個類別的實際樣本數。\\\n",
        "總的來說，模型在預測用戶是否會訂閱新的頻道方面表現得非常好，具有高精確度和召回率。然而，要注意，這裡的準確度非常高，但在一些情況下，您可能需要更深入地考慮其他指標，特別是當不平衡類別存在時。"
      ],
      "metadata": {
        "id": "2MVWVNlXYgo3"
      }
    },
    {
      "cell_type": "markdown",
      "source": [
        "## 係數"
      ],
      "metadata": {
        "id": "ILbVfFliuQIz"
      }
    },
    {
      "cell_type": "code",
      "source": [
        "coefficients = model.coef_\n",
        "\n",
        "# 獲取模型的截距\n",
        "intercept = model.intercept_\n",
        "\n",
        "# 列印係數和截距\n",
        "print('Coefficients:', coefficients)\n",
        "print('Intercept:', intercept)"
      ],
      "metadata": {
        "colab": {
          "base_uri": "https://localhost:8080/"
        },
        "id": "DhzcfA-5Z0vj",
        "outputId": "957b55a2-331b-4b2a-fd16-41621e02962e"
      },
      "execution_count": null,
      "outputs": [
        {
          "output_type": "stream",
          "name": "stdout",
          "text": [
            "Coefficients: [[-1.74934978e-06  2.58278738e-10  4.75971748e-05  1.79733383e-03\n",
            "  -1.89843883e-10]]\n",
            "Intercept: [3.60807009e-11]\n"
          ]
        }
      ]
    },
    {
      "cell_type": "markdown",
      "source": [
        "-1.74934978e-06 是 subscribers 特徵的係數。\n",
        "2.58278738e-10 是 video views 特徵的係數。\n",
        "4.75971748e-05 是 uploads 特徵的係數。\n",
        "1.79733383e-03 是 subscribers_for_last_30_days 特徵的係數。\n",
        "-1.89843883e-10 是 category_encoded 特徵的係數。\n",
        "3.60807009e-11 是截距。"
      ],
      "metadata": {
        "id": "_wcbD5SKZ2Yt"
      }
    },
    {
      "cell_type": "markdown",
      "source": [
        "# 結論"
      ],
      "metadata": {
        "id": "6BK1RrX4uM96"
      }
    },
    {
      "cell_type": "markdown",
      "source": [
        "一開始用全部數據去做訂閱，觀看，影片數量來預測收入，但發現結果不好，嘗試分組後再做模型。但分組後發現只用subscribers，video views和uploads這三個變數做模型都不理想，所以加上video_views_for_the_last_30_days 和 subscribers_for_last_30_days 這兩個變數，之後發現只有在News & Politics這個類別中有比較好的效果\\\n",
        "在預測用戶是否會訂閱新的頻道中有很好的效果，但是要注意查看樣本比例差異的問題。"
      ],
      "metadata": {
        "id": "MMiHKZ9euR9i"
      }
    }
  ]
}